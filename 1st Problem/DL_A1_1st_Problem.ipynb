{
  "nbformat": 4,
  "nbformat_minor": 0,
  "metadata": {
    "colab": {
      "name": "DL-A1: 1st Problem.ipynb",
      "provenance": [],
      "collapsed_sections": []
    },
    "kernelspec": {
      "name": "python3",
      "display_name": "Python 3"
    }
  },
  "cells": [
    {
      "cell_type": "markdown",
      "metadata": {
        "id": "Q5vz6MqUffGh"
      },
      "source": [
        "DL-Lab Assignment-1"
      ]
    },
    {
      "cell_type": "markdown",
      "metadata": {
        "id": "sOzp0V8-fltz"
      },
      "source": [
        "Name: Pushkar Mundlik\r\n",
        "Reg. No: 20MAI0063"
      ]
    },
    {
      "cell_type": "markdown",
      "metadata": {
        "id": "6NTpa1sDfp5_"
      },
      "source": [
        "Git Hub Link: https://github.com/pknigth/DL-Lab-Assignmnet-1/upload"
      ]
    },
    {
      "cell_type": "markdown",
      "metadata": {
        "id": "7bJ2IqnoftRX"
      },
      "source": [
        "Problem-1:"
      ]
    },
    {
      "cell_type": "code",
      "metadata": {
        "colab": {
          "base_uri": "https://localhost:8080/",
          "height": 0
        },
        "id": "RzRnpZ73v9RV",
        "outputId": "ced10c65-1a4b-4b73-abf8-4e3c497b4681"
      },
      "source": [
        "import numpy as np\r\n",
        "\r\n",
        "class P:\r\n",
        "  #define constructor with parameters learning rate and no of iteration (epoch)\r\n",
        "    def __init__(self, learn_rate=0.1, no_of_iteration=100):\r\n",
        "    \r\n",
        "      self.lr = learn_rate\r\n",
        "      self.epochs = no_of_iteration\r\n",
        "      self.weights = None\r\n",
        "      self.bias = None\r\n",
        "    \r\n",
        "    def fit(self, X, y):\r\n",
        "      self.weights = np.zeros(X.shape[1])\r\n",
        "      self.bias = 0\r\n",
        "\r\n",
        "      print(\"Training Input: \\n\", X)\r\n",
        "\r\n",
        "      for epoch in range(self.epochs):\r\n",
        "          for i in range(X.shape[0]):\r\n",
        "\r\n",
        "              y_pred = self.activation_func(np.dot(self.weights, X[i]) + self.bias)\r\n",
        "              y_pred1[i] = y_pred\r\n",
        "              self.weights = self.weights + self.lr * (y[i] - y_pred)*X[i]\r\n",
        "              self.bias = self.bias + self.lr * (y[i] - y_pred)\r\n",
        "      \r\n",
        "      print(\"\\nTraining:\")\r\n",
        "      print(\"Weights: \", self.weights)\r\n",
        "      print(\"Bias: \", self.bias)\r\n",
        "\r\n",
        "      print(\"\\nActuall Output:\", y)\r\n",
        "      print(\"Predicted Output:\", y_pred1)\r\n",
        "\r\n",
        "    def activation_func(self, activation):\r\n",
        "        if activation>=0:\r\n",
        "            return 1\r\n",
        "        else:\r\n",
        "            return 0\r\n",
        "    \r\n",
        "    def predict(self, X):\r\n",
        "      y_pred = []\r\n",
        "      for i in range(X.shape[0]):\r\n",
        "          y_pred.append(self.activation_func(np.dot(self.weights, X[i]) + self.bias))\r\n",
        "\r\n",
        "      print(\"\\nTesting:\")\r\n",
        "      print(\"Testing Input: \", t)\r\n",
        "      print(\"Testing Predicted Output: \", y_pred)\r\n",
        "\r\n",
        "if __name__ == '__main__':\r\n",
        "    X = np.array([\r\n",
        "        [1, 2, 3],\r\n",
        "        [4, 5, 6],\r\n",
        "        [7, 8, 9]\r\n",
        "    ])\r\n",
        "\r\n",
        "    y = np.array([0, 1, 1]) \r\n",
        "    t = np.array([[4, 7, 8]])\r\n",
        "\r\n",
        "    # for training's predicted output\r\n",
        "    y_pred1 = np.array([0, 0, 0])\r\n",
        "\r\n",
        "    perceptron = P()\r\n",
        "    perceptron.fit(X, y)\r\n",
        "\r\n",
        "    \r\n",
        "    perceptron.predict(t)\r\n"
      ],
      "execution_count": 18,
      "outputs": [
        {
          "output_type": "stream",
          "text": [
            "Training Input: \n",
            " [[1 2 3]\n",
            " [4 5 6]\n",
            " [7 8 9]]\n",
            "\n",
            "Training:\n",
            "Weights:  [ 0.5  0.1 -0.3]\n",
            "Bias:  -0.4\n",
            "\n",
            "Actuall Output: [0 1 1]\n",
            "Predicted Output: [0 1 1]\n",
            "\n",
            "Testing:\n",
            "Testing Input:  [[4 7 8]]\n",
            "Testing Predicted Output:  [0]\n"
          ],
          "name": "stdout"
        }
      ]
    },
    {
      "cell_type": "code",
      "metadata": {
        "id": "K3zOoGhAapTk"
      },
      "source": [
        ""
      ],
      "execution_count": null,
      "outputs": []
    }
  ]
}